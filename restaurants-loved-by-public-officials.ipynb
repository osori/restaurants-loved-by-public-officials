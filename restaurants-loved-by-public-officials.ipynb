{
 "cells": [
  {
   "cell_type": "markdown",
   "metadata": {},
   "source": [
    "# 1. `공인맛집` 프로젝트의 목표\n",
    "\n",
    "**데이터셋: https://github.com/seoul-opengov/opengov**\n",
    "\n",
    "우리는 '맛집' 홍수의 시대에 살고 있습니다. 네이버 블로그 후기, 인스타그램 #을지로맛집, 망고플레이트, 지도 앱 평점, ... 여러 출처에서 맛집 정보를 찾을 때 가짜 리뷰를 분간해내는 일은 제1세계 문제 중에 하나죠.\n",
    "\n",
    "그런데 2018년 새해, 디시인사이드 기타음식 갤러리에 **[필자가 블로그, sns거르고 맛집찾는법 알려준다](https://gall.dcinside.com/board/view/?id=food&no=1272073)**라는 글이 올라왔습니다. 관공서의 웹사이트에 가면 고위(2-5급) 공무원들의 업무추진비 내역이 공개되어 있는데, 업무추진비 내역을 통해 \"고위 공무원이 손님을 대접하고 즐겨찾는, 정갈하고 조용한, 맛좋고 가격 좀 나가는 진짜 맛집\"을 찾을 수 있다는 것입니다.\n",
    "\n",
    "수많은 관공서 중에, \"업무 추진비\" 내역을 가장 깔끔하게 공개하고 있는 곳은 바로 **서울특별시청**입니다. 웹 스크레이핑 필요 없이 자료가 github에 올라와 있기도 하고, 내역이 매우 상세합니다.\n",
    "\n",
    "**이 프로젝트는 서울특별시청들의 공무원들이 즐겨찾는 맛집을 분석하는 것을 목표로 합니다.**"
   ]
  },
  {
   "cell_type": "markdown",
   "metadata": {},
   "source": [
    "# 2. 데이터 형태\n",
    "현재 `서울시 행정정보 공개 GitHub`에 공개되어 있는 업무 추진비 사용 내역은, **2017년 1월부터 2020년 6월까지, 총 244,009건**입니다. Unique한 식당의 개수는 약 30,067개(추정)입니다.\n",
    "* `nid`: 고유 번호\n",
    "* `title`: \n",
    "* `url`:\n",
    "* `dept_nm_lvl_1`, `dept_nm_lvl_2`, `dept_nm_lvl_3`, `dept_nm_lvl_4`, `dept_nm_lvl_5`: 부서명\n",
    "* `exec_yr`: 사용 연도\n",
    "* `exec_month`: 사용한 달\n",
    "* `expense_budget`: 사용 금액\n",
    "* `expense_execution`: \n",
    "* `category`: 구분\n",
    "* `dept_nm_full`: 부서명\n",
    "* `exec_dt`: 사용 일시\n",
    "* `exec_loc`: 사용 장소\n",
    "* `exec_purpose`: 사용 목적\n",
    "* `target_nm`: 사용자 및 인원\n",
    "* `payment_method`: 결제 방법\n",
    "* `exec_amount`: 사용 금액"
   ]
  },
  {
   "cell_type": "markdown",
   "metadata": {},
   "source": [
    "# 3. 분석 방향\n",
    "1. 서울특별시청 소속 공무원들이 가장 많이 방문한 식당\n",
    "2. 서울특별시청 소속 공무원들이 가장 많은 금액을 지출한 식당\n",
    "3. 식당별 1인당 평균 금액 (가성비를 보기 위함)"
   ]
  },
  {
   "cell_type": "markdown",
   "metadata": {},
   "source": [
    "# 4. 분석 과정"
   ]
  },
  {
   "cell_type": "markdown",
   "metadata": {},
   "source": [
    "### * Dependencies"
   ]
  },
  {
   "cell_type": "code",
   "execution_count": 1,
   "metadata": {},
   "outputs": [
    {
     "name": "stdout",
     "output_type": "stream",
     "text": [
      "Requirement already satisfied: pandas in /home/ilkyu/anaconda3/envs/jupyter/lib/python3.8/site-packages (1.0.5)\n",
      "Requirement already satisfied: pytz>=2017.2 in /home/ilkyu/anaconda3/envs/jupyter/lib/python3.8/site-packages (from pandas) (2020.1)\n",
      "Requirement already satisfied: numpy>=1.13.3 in /home/ilkyu/anaconda3/envs/jupyter/lib/python3.8/site-packages (from pandas) (1.19.0)\n",
      "Requirement already satisfied: python-dateutil>=2.6.1 in /home/ilkyu/anaconda3/envs/jupyter/lib/python3.8/site-packages (from pandas) (2.8.1)\n",
      "Requirement already satisfied: six>=1.5 in /home/ilkyu/anaconda3/envs/jupyter/lib/python3.8/site-packages (from python-dateutil>=2.6.1->pandas) (1.15.0)\n"
     ]
    }
   ],
   "source": [
    "!pip install pandas\n",
    "import pandas as pd\n",
    "import glob"
   ]
  },
  {
   "cell_type": "markdown",
   "metadata": {},
   "source": [
    "## 데이터 수집"
   ]
  },
  {
   "cell_type": "code",
   "execution_count": 2,
   "metadata": {},
   "outputs": [],
   "source": [
    "SEOUL_OPENGOV_GITHUB_URL = \"https://github.com/seoul-opengov/opengov/raw/master/\"\n",
    "\n",
    "start_yr, start_mo = 2017, 1\n",
    "end_yr, end_mo = 2020, 6\n",
    "\n",
    "def get_download_urls(begin_yr, begin_mo, end_yr, end_mo):\n",
    "    \"\"\"\n",
    "    지정한 시작연월/끝연월 기간 동안의 업무추진비 내역 csv 파일들의 다운로드 URL 리스트를 반환합니다.\n",
    "    \n",
    "    Parameters\n",
    "    ----------\n",
    "    begin_yr: 시작년도\n",
    "    begin_mo: 시작월\n",
    "    end_yr: 종료년도\n",
    "    end_mo: 종료월\n",
    "    \n",
    "    Yields\n",
    "    ------\n",
    "    list\n",
    "    \"\"\"\n",
    "    urls = []\n",
    "    for yr in range(begin_yr, end_yr+1):\n",
    "        for mo in range(begin_mo, 13):\n",
    "            if yr == end_yr and mo == end_mo + 1: break\n",
    "            url = SEOUL_OPENGOV_GITHUB_URL + \"expense_list\" + str(yr) + \"/\" + str(yr) + str(mo).zfill(2) + \"_expense_list.csv\"\n",
    "            urls.append(url)\n",
    "            \n",
    "    return urls\n",
    "\n",
    "def save_data(urls):\n",
    "    \"\"\"\n",
    "    URL 리스트의 CSV 파일을 다운로드해 저장합니다.\n",
    "    \"\"\"\n",
    "    for url in urls:\n",
    "        filename = url.split('/')[-1]\n",
    "        df = pd.read_csv(url)\n",
    "        df.to_csv(\"./data/\"+filename)\n",
    "        \n",
    "urls = get_download_urls(2017, 1, 2020, 6)\n",
    "save_data(urls)"
   ]
  },
  {
   "cell_type": "markdown",
   "metadata": {},
   "source": [
    "## 데이터 전처리\n"
   ]
  },
  {
   "cell_type": "markdown",
   "metadata": {},
   "source": [
    "### 1. Merge"
   ]
  },
  {
   "cell_type": "code",
   "execution_count": 3,
   "metadata": {},
   "outputs": [],
   "source": [
    "filenames = sorted(glob.glob('./data/*.csv'))\n",
    "\n",
    "merged = pd.concat([pd.read_csv(f) for f in filenames])"
   ]
  },
  {
   "cell_type": "markdown",
   "metadata": {},
   "source": [
    "### 2. 식당명"
   ]
  },
  {
   "cell_type": "code",
   "execution_count": 4,
   "metadata": {},
   "outputs": [],
   "source": [
    "# 1. 공백 제거 91887 -> 91660\n",
    "merged['exec_loc'] = merged['exec_loc'].str.strip()\n",
    "# 2. (중구 ~~) 91660 -> 50158\n",
    "merged['exec_loc'] = merged['exec_loc'].str.replace(r'\\( *.*구.+ *\\)','')\n",
    "# 3. (주) 50158 -> 41647\n",
    "merged['exec_loc'] = merged['exec_loc'].str.replace(r'(\\(주\\)|（주）|㈜|（주\\))','')\n",
    "# 4. 기타 41647 -> 41598\n",
    "merged['exec_loc'] = merged['exec_loc'].str.replace(r'(\"|-)','')\n",
    "# 5. 서울 ~구 41598 -> 39595\n",
    "merged['exec_loc'] = merged['exec_loc'].str.replace(r'\\(*서울.+구.+\\)*','')\n",
    "# 6. 구 동|길 38202 -> 36781\n",
    "merged['exec_loc'] = merged['exec_loc'].str.replace(r' .+구.+[동|길] *\\d*','')\n",
    "# 7. 길동시도군36781 -> 32871\n",
    "merged['exec_loc'] = merged['exec_loc'].str.replace(r'\\((.+길|.+동|.+시|.+도|.+군|.+로) *\\d*.*\\)*','')\n",
    "# 8. 띄어쓰기 제거 32871 -> 29935\n",
    "merged['exec_loc'] = merged['exec_loc'].str.replace(' ','')\n",
    "# 9. 특수\n",
    "merged['exec_loc'] = merged['exec_loc'].str.replace('창고43시청점','창고43')"
   ]
  },
  {
   "cell_type": "markdown",
   "metadata": {},
   "source": [
    "### 3. price per person\n",
    "정확하지 않을 수 있음."
   ]
  },
  {
   "cell_type": "code",
   "execution_count": null,
   "metadata": {},
   "outputs": [],
   "source": [
    "import re\n",
    "def target_nm_to_num(row):\n",
    "    try:\n",
    "        match = re.findall('(\\d+)[명인]', row['target_nm'])\n",
    "    except Exception as e:\n",
    "        return None\n",
    "    if len(match) != 1:\n",
    "        return None\n",
    "    else:\n",
    "        num = int(match[0])\n",
    "        if '외' in row['target_nm']:\n",
    "            num +=1\n",
    "        return num\n",
    "\n",
    "merged['num_people'] = merged.apply(target_nm_to_num, axis=1)\n",
    "merged['price_per_person'] = merged['exec_amount'] / merged['num_people']"
   ]
  },
  {
   "cell_type": "markdown",
   "metadata": {},
   "source": [
    "## 방문 횟수 랭킹"
   ]
  },
  {
   "cell_type": "code",
   "execution_count": null,
   "metadata": {},
   "outputs": [],
   "source": [
    "visit_ranking = merged['exec_loc'].value_counts()\n",
    "visit_ranking.head(50)"
   ]
  },
  {
   "cell_type": "markdown",
   "metadata": {},
   "source": [
    "## 사용 금액 랭킹"
   ]
  },
  {
   "cell_type": "code",
   "execution_count": null,
   "metadata": {
    "scrolled": false
   },
   "outputs": [],
   "source": [
    "amount_ranking = merged.groupby('exec_loc')['exec_amount'].agg(sum).astype('int64').nlargest(50)\n",
    "amount_ranking"
   ]
  },
  {
   "cell_type": "code",
   "execution_count": null,
   "metadata": {},
   "outputs": [],
   "source": [
    "mean_price_per_person = merged.groupby('exec_loc')['price_per_person'].agg(\"mean\")"
   ]
  },
  {
   "cell_type": "markdown",
   "metadata": {},
   "source": [
    "## 방문 횟수 랭킹 + 1인당 평균 가격"
   ]
  },
  {
   "cell_type": "code",
   "execution_count": null,
   "metadata": {
    "scrolled": false
   },
   "outputs": [],
   "source": [
    "visit_mean_price_ranking = pd.concat((visit_ranking, mean_price_per_person), axis=1)\n",
    "visit_mean_price_ranking.head(50)"
   ]
  }
 ],
 "metadata": {
  "kernelspec": {
   "display_name": "Python 3",
   "language": "python",
   "name": "python3"
  },
  "language_info": {
   "codemirror_mode": {
    "name": "ipython",
    "version": 3
   },
   "file_extension": ".py",
   "mimetype": "text/x-python",
   "name": "python",
   "nbconvert_exporter": "python",
   "pygments_lexer": "ipython3",
   "version": "3.8.3"
  }
 },
 "nbformat": 4,
 "nbformat_minor": 4
}
